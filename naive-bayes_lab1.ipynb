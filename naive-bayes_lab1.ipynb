{
 "cells": [
  {
   "cell_type": "markdown",
   "metadata": {},
   "source": [
    "# Assignment 1 - Adrien Guezennec\n",
    "\n",
    "## Introduction\n",
    "The goal here was to implement from scratch a Naive Bayes, a cross validator and a ROC.\n",
    "I personnaly use Python as language.\n",
    "\n",
    "You can see my [repository](https://github.com/adrienGzc/machine-learning-lab) on Github.\n",
    "I added a Dockerfile if you don't want to run it in your environment.\n",
    "\n",
    "\n",
    "I structured my report the same order as I coded the assignment. So, Naive Bayes first after the Cross validator and to end the ROC.\n",
    "</br>\n",
    "\n",
    "## Naive Bayes\n"
   ]
  },
  {
   "cell_type": "code",
   "execution_count": null,
   "metadata": {},
   "outputs": [],
   "source": []
  }
 ],
 "metadata": {
  "kernelspec": {
   "display_name": "Python 3",
   "language": "python",
   "name": "python3"
  },
  "language_info": {
   "codemirror_mode": {
    "name": "ipython",
    "version": 3
   },
   "file_extension": ".py",
   "mimetype": "text/x-python",
   "name": "python",
   "nbconvert_exporter": "python",
   "pygments_lexer": "ipython3",
   "version": "3.7.6"
  }
 },
 "nbformat": 4,
 "nbformat_minor": 4
}
